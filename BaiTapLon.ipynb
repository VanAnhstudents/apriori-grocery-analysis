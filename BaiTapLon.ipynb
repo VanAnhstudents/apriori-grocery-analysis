{
  "nbformat": 4,
  "nbformat_minor": 0,
  "metadata": {
    "colab": {
      "provenance": []
    },
    "kernelspec": {
      "name": "python3",
      "display_name": "Python 3"
    },
    "language_info": {
      "name": "python"
    }
  },
  "cells": [
    {
      "cell_type": "code",
      "source": [
        "import warnings\n",
        "warnings.filterwarnings(\"ignore\", category=DeprecationWarning)"
      ],
      "metadata": {
        "id": "TzlEp7gKtZW1"
      },
      "execution_count": 1,
      "outputs": []
    },
    {
      "cell_type": "code",
      "source": [
        "!pip install mlxtend --quiet\n",
        "!pip install pandas numpy matplotlib --quiet"
      ],
      "metadata": {
        "id": "Py49hulnh0ly"
      },
      "execution_count": 2,
      "outputs": []
    },
    {
      "cell_type": "code",
      "execution_count": 3,
      "metadata": {
        "colab": {
          "base_uri": "https://localhost:8080/"
        },
        "id": "AmuhZoniQBy8",
        "outputId": "12ccb0cc-1613-438d-cec5-57f5f2e462d9",
        "collapsed": true
      },
      "outputs": [
        {
          "output_type": "stream",
          "name": "stdout",
          "text": [
            "Mounted at /content/drive/\n"
          ]
        }
      ],
      "source": [
        "from google.colab import drive\n",
        "drive.mount('/content/drive/')"
      ]
    },
    {
      "cell_type": "code",
      "source": [
        "import pandas as pd\n",
        "data = pd.read_csv('/content/drive/MyDrive/Groceries_dataset.csv')\n",
        "print(\"Dữ liệu ban đầu: \", data.shape)\n",
        "print(\"5 Bộ dữ liệu đầu tiên\", data.head())"
      ],
      "metadata": {
        "colab": {
          "base_uri": "https://localhost:8080/"
        },
        "id": "nOf8a356fvqt",
        "outputId": "368c5ec3-6e9c-4f53-8b31-11381890583c",
        "collapsed": true
      },
      "execution_count": null,
      "outputs": [
        {
          "output_type": "stream",
          "name": "stdout",
          "text": [
            "Dữ liệu ban đầu:  (38765, 3)\n",
            "5 Bộ dữ liệu đầu tiên <bound method NDFrame.head of        Member_number        Date        itemDescription\n",
            "0               1808  21-07-2015         tropical fruit\n",
            "1               2552  05-01-2015             whole milk\n",
            "2               2300  19-09-2015              pip fruit\n",
            "3               1187  12-12-2015       other vegetables\n",
            "4               3037  01-02-2015             whole milk\n",
            "...              ...         ...                    ...\n",
            "38760           4471  08-10-2014          sliced cheese\n",
            "38761           2022  23-02-2014                  candy\n",
            "38762           1097  16-04-2014               cake bar\n",
            "38763           1510  03-12-2014  fruit/vegetable juice\n",
            "38764           1521  26-12-2014               cat food\n",
            "\n",
            "[38765 rows x 3 columns]>\n"
          ]
        }
      ]
    },
    {
      "cell_type": "code",
      "source": [
        "from google.colab import files\n",
        "uploaded = files.upload()\n",
        "\n",
        "import pandas as pd\n",
        "data = pd.read_csv('Groceries_dataset.csv')\n",
        "\n",
        "print(\"\\n✓ Đọc dữ liệu thành công!\")\n",
        "print(\"Dữ liệu ban đầu: \", data.shape)\n",
        "print(\"5 Bộ dữ liệu đầu tiên\", data.head())"
      ],
      "metadata": {
        "colab": {
          "base_uri": "https://localhost:8080/",
          "height": 229
        },
        "id": "mC2i6gJTtSDH",
        "outputId": "28e352d0-90f0-4a76-dfda-127748795e58"
      },
      "execution_count": 7,
      "outputs": [
        {
          "output_type": "display_data",
          "data": {
            "text/plain": [
              "<IPython.core.display.HTML object>"
            ],
            "text/html": [
              "\n",
              "     <input type=\"file\" id=\"files-e6aec5a9-ac97-4ee9-b18e-0597677c5f7e\" name=\"files[]\" multiple disabled\n",
              "        style=\"border:none\" />\n",
              "     <output id=\"result-e6aec5a9-ac97-4ee9-b18e-0597677c5f7e\">\n",
              "      Upload widget is only available when the cell has been executed in the\n",
              "      current browser session. Please rerun this cell to enable.\n",
              "      </output>\n",
              "      <script>// Copyright 2017 Google LLC\n",
              "//\n",
              "// Licensed under the Apache License, Version 2.0 (the \"License\");\n",
              "// you may not use this file except in compliance with the License.\n",
              "// You may obtain a copy of the License at\n",
              "//\n",
              "//      http://www.apache.org/licenses/LICENSE-2.0\n",
              "//\n",
              "// Unless required by applicable law or agreed to in writing, software\n",
              "// distributed under the License is distributed on an \"AS IS\" BASIS,\n",
              "// WITHOUT WARRANTIES OR CONDITIONS OF ANY KIND, either express or implied.\n",
              "// See the License for the specific language governing permissions and\n",
              "// limitations under the License.\n",
              "\n",
              "/**\n",
              " * @fileoverview Helpers for google.colab Python module.\n",
              " */\n",
              "(function(scope) {\n",
              "function span(text, styleAttributes = {}) {\n",
              "  const element = document.createElement('span');\n",
              "  element.textContent = text;\n",
              "  for (const key of Object.keys(styleAttributes)) {\n",
              "    element.style[key] = styleAttributes[key];\n",
              "  }\n",
              "  return element;\n",
              "}\n",
              "\n",
              "// Max number of bytes which will be uploaded at a time.\n",
              "const MAX_PAYLOAD_SIZE = 100 * 1024;\n",
              "\n",
              "function _uploadFiles(inputId, outputId) {\n",
              "  const steps = uploadFilesStep(inputId, outputId);\n",
              "  const outputElement = document.getElementById(outputId);\n",
              "  // Cache steps on the outputElement to make it available for the next call\n",
              "  // to uploadFilesContinue from Python.\n",
              "  outputElement.steps = steps;\n",
              "\n",
              "  return _uploadFilesContinue(outputId);\n",
              "}\n",
              "\n",
              "// This is roughly an async generator (not supported in the browser yet),\n",
              "// where there are multiple asynchronous steps and the Python side is going\n",
              "// to poll for completion of each step.\n",
              "// This uses a Promise to block the python side on completion of each step,\n",
              "// then passes the result of the previous step as the input to the next step.\n",
              "function _uploadFilesContinue(outputId) {\n",
              "  const outputElement = document.getElementById(outputId);\n",
              "  const steps = outputElement.steps;\n",
              "\n",
              "  const next = steps.next(outputElement.lastPromiseValue);\n",
              "  return Promise.resolve(next.value.promise).then((value) => {\n",
              "    // Cache the last promise value to make it available to the next\n",
              "    // step of the generator.\n",
              "    outputElement.lastPromiseValue = value;\n",
              "    return next.value.response;\n",
              "  });\n",
              "}\n",
              "\n",
              "/**\n",
              " * Generator function which is called between each async step of the upload\n",
              " * process.\n",
              " * @param {string} inputId Element ID of the input file picker element.\n",
              " * @param {string} outputId Element ID of the output display.\n",
              " * @return {!Iterable<!Object>} Iterable of next steps.\n",
              " */\n",
              "function* uploadFilesStep(inputId, outputId) {\n",
              "  const inputElement = document.getElementById(inputId);\n",
              "  inputElement.disabled = false;\n",
              "\n",
              "  const outputElement = document.getElementById(outputId);\n",
              "  outputElement.innerHTML = '';\n",
              "\n",
              "  const pickedPromise = new Promise((resolve) => {\n",
              "    inputElement.addEventListener('change', (e) => {\n",
              "      resolve(e.target.files);\n",
              "    });\n",
              "  });\n",
              "\n",
              "  const cancel = document.createElement('button');\n",
              "  inputElement.parentElement.appendChild(cancel);\n",
              "  cancel.textContent = 'Cancel upload';\n",
              "  const cancelPromise = new Promise((resolve) => {\n",
              "    cancel.onclick = () => {\n",
              "      resolve(null);\n",
              "    };\n",
              "  });\n",
              "\n",
              "  // Wait for the user to pick the files.\n",
              "  const files = yield {\n",
              "    promise: Promise.race([pickedPromise, cancelPromise]),\n",
              "    response: {\n",
              "      action: 'starting',\n",
              "    }\n",
              "  };\n",
              "\n",
              "  cancel.remove();\n",
              "\n",
              "  // Disable the input element since further picks are not allowed.\n",
              "  inputElement.disabled = true;\n",
              "\n",
              "  if (!files) {\n",
              "    return {\n",
              "      response: {\n",
              "        action: 'complete',\n",
              "      }\n",
              "    };\n",
              "  }\n",
              "\n",
              "  for (const file of files) {\n",
              "    const li = document.createElement('li');\n",
              "    li.append(span(file.name, {fontWeight: 'bold'}));\n",
              "    li.append(span(\n",
              "        `(${file.type || 'n/a'}) - ${file.size} bytes, ` +\n",
              "        `last modified: ${\n",
              "            file.lastModifiedDate ? file.lastModifiedDate.toLocaleDateString() :\n",
              "                                    'n/a'} - `));\n",
              "    const percent = span('0% done');\n",
              "    li.appendChild(percent);\n",
              "\n",
              "    outputElement.appendChild(li);\n",
              "\n",
              "    const fileDataPromise = new Promise((resolve) => {\n",
              "      const reader = new FileReader();\n",
              "      reader.onload = (e) => {\n",
              "        resolve(e.target.result);\n",
              "      };\n",
              "      reader.readAsArrayBuffer(file);\n",
              "    });\n",
              "    // Wait for the data to be ready.\n",
              "    let fileData = yield {\n",
              "      promise: fileDataPromise,\n",
              "      response: {\n",
              "        action: 'continue',\n",
              "      }\n",
              "    };\n",
              "\n",
              "    // Use a chunked sending to avoid message size limits. See b/62115660.\n",
              "    let position = 0;\n",
              "    do {\n",
              "      const length = Math.min(fileData.byteLength - position, MAX_PAYLOAD_SIZE);\n",
              "      const chunk = new Uint8Array(fileData, position, length);\n",
              "      position += length;\n",
              "\n",
              "      const base64 = btoa(String.fromCharCode.apply(null, chunk));\n",
              "      yield {\n",
              "        response: {\n",
              "          action: 'append',\n",
              "          file: file.name,\n",
              "          data: base64,\n",
              "        },\n",
              "      };\n",
              "\n",
              "      let percentDone = fileData.byteLength === 0 ?\n",
              "          100 :\n",
              "          Math.round((position / fileData.byteLength) * 100);\n",
              "      percent.textContent = `${percentDone}% done`;\n",
              "\n",
              "    } while (position < fileData.byteLength);\n",
              "  }\n",
              "\n",
              "  // All done.\n",
              "  yield {\n",
              "    response: {\n",
              "      action: 'complete',\n",
              "    }\n",
              "  };\n",
              "}\n",
              "\n",
              "scope.google = scope.google || {};\n",
              "scope.google.colab = scope.google.colab || {};\n",
              "scope.google.colab._files = {\n",
              "  _uploadFiles,\n",
              "  _uploadFilesContinue,\n",
              "};\n",
              "})(self);\n",
              "</script> "
            ]
          },
          "metadata": {}
        },
        {
          "output_type": "stream",
          "name": "stdout",
          "text": [
            "Saving Groceries_dataset.csv to Groceries_dataset (3).csv\n",
            "\n",
            "✓ Đọc dữ liệu thành công!\n",
            "Dữ liệu ban đầu:  (38765, 3)\n",
            "5 Bộ dữ liệu đầu tiên    Member_number        Date   itemDescription\n",
            "0           1808  21-07-2015    tropical fruit\n",
            "1           2552  05-01-2015        whole milk\n",
            "2           2300  19-09-2015         pip fruit\n",
            "3           1187  12-12-2015  other vegetables\n",
            "4           3037  01-02-2015        whole milk\n"
          ]
        }
      ]
    },
    {
      "cell_type": "markdown",
      "source": [
        "Làm sạch dữ liệu cơ bản"
      ],
      "metadata": {
        "id": "8pLW1Tl6lf02"
      }
    },
    {
      "cell_type": "code",
      "source": [
        "import re\n",
        "data['Date'] = pd.to_datetime(data['Date'], dayfirst = True, errors = 'coerce')\n",
        "data = data.dropna(subset = ['Date'])\n",
        "data['itemDescription'] = data['itemDescription'].astype(str)\n",
        "data = data[data['itemDescription'].str.strip() != '']\n",
        "def clean_item(s):\n",
        "  s = str(s).lower().strip()\n",
        "  s = re.sub(r'[/\\\\]', ' ', s)   # thay / hoặc \\ bằng khoảng trắng\n",
        "  s = re.sub(r'[^a-z0-9\\s\\-\\&]', ' ', s) # chỉ giữ lại chữ, số, -, &, khoảng trắng\n",
        "  s = re.sub(r'\\s*-\\s*', '-', s) # chuẩn hoá dấu gạch ngang\n",
        "  s = re.sub(r'\\s*&\\s*', '&', s)# chuẩn hoá dấu &\n",
        "  s = re.sub(r'\\s+', ' ', s).strip() # loại bỏ khoảng trắng thừa\n",
        "  return s\n",
        "data['item_clean'] = data['itemDescription'].apply(clean_item)"
      ],
      "metadata": {
        "id": "DpTSVFP9lroK",
        "collapsed": true
      },
      "execution_count": 8,
      "outputs": []
    },
    {
      "cell_type": "markdown",
      "source": [
        "Xây dựng mã giao dịch\n"
      ],
      "metadata": {
        "id": "gh2KvbSbul4R"
      }
    },
    {
      "cell_type": "code",
      "source": [
        "data['Member_number'] = data['Member_number'].astype(str)\n",
        "data['TransID'] = data['Member_number'] + '_' + data['Date'].dt.strftime('%Y-%m-%d')"
      ],
      "metadata": {
        "id": "DHkytoQsuvDf",
        "collapsed": true
      },
      "execution_count": 9,
      "outputs": []
    },
    {
      "cell_type": "markdown",
      "source": [
        "Gom các mặt hàng trong cùng giao dịch"
      ],
      "metadata": {
        "id": "5W73N337voAA"
      }
    },
    {
      "cell_type": "code",
      "source": [
        "transactions = (\n",
        "    data.groupby('TransID')['item_clean'].apply(lambda x: list(dict.fromkeys(x))).tolist()\n",
        ")"
      ],
      "metadata": {
        "id": "cp4oLf4evu-L",
        "collapsed": true
      },
      "execution_count": 10,
      "outputs": []
    },
    {
      "cell_type": "markdown",
      "source": [
        "Đếm và lọc mặt hàng hiếm"
      ],
      "metadata": {
        "id": "9WcdvHn9xAPy"
      }
    },
    {
      "cell_type": "code",
      "source": [
        "from collections import Counter\n",
        "cnt = Counter(it for t in transactions for it in t)\n",
        "print(\"Số giao dịch ban đầu: \", len(transactions))\n",
        "print(\"Top items: \", cnt.most_common(15))\n",
        "min_count = 5\n",
        "freq_items = {it for it, c in cnt.items() if c >= min_count}\n",
        "transactions = [[it for it in t if it in freq_items] for t in transactions]\n",
        "transactions = [t for t in transactions if len(t) >= 1]"
      ],
      "metadata": {
        "colab": {
          "base_uri": "https://localhost:8080/"
        },
        "id": "NuHJMs6kxHaA",
        "outputId": "f03ddc54-db65-4ff3-c188-72521aaab5d9",
        "collapsed": true
      },
      "execution_count": 11,
      "outputs": [
        {
          "output_type": "stream",
          "name": "stdout",
          "text": [
            "Số giao dịch ban đầu:  14963\n",
            "Top items:  [('whole milk', 2363), ('other vegetables', 1827), ('rolls buns', 1646), ('soda', 1453), ('yogurt', 1285), ('root vegetables', 1041), ('tropical fruit', 1014), ('bottled water', 908), ('sausage', 903), ('citrus fruit', 795), ('pastry', 774), ('pip fruit', 734), ('shopping bags', 712), ('canned beer', 702), ('bottled beer', 678)]\n"
          ]
        }
      ]
    },
    {
      "cell_type": "markdown",
      "source": [
        "Chuyển sang dạng one-hot encoding chuẩn bị cho khai phá luật kết hợp"
      ],
      "metadata": {
        "id": "gqP4LHHAy2Eo"
      }
    },
    {
      "cell_type": "code",
      "source": [
        "from mlxtend.preprocessing import TransactionEncoder\n",
        "te = TransactionEncoder()\n",
        "te_ary = te.fit(transactions).transform(transactions)\n",
        "df_onehot.to_csv('groceries_onehot.csv', index=False)\n",
        "print(\"One-hot saved, shape: \", df_onehot.shape)"
      ],
      "metadata": {
        "colab": {
          "base_uri": "https://localhost:8080/",
          "height": 193
        },
        "id": "WgbTtmqBy9j1",
        "outputId": "d5d4af66-2d13-4685-ba05-ef02fb9f1f82"
      },
      "execution_count": 12,
      "outputs": [
        {
          "output_type": "error",
          "ename": "NameError",
          "evalue": "name 'df_onehot' is not defined",
          "traceback": [
            "\u001b[0;31m---------------------------------------------------------------------------\u001b[0m",
            "\u001b[0;31mNameError\u001b[0m                                 Traceback (most recent call last)",
            "\u001b[0;32m/tmp/ipython-input-1695815932.py\u001b[0m in \u001b[0;36m<cell line: 0>\u001b[0;34m()\u001b[0m\n\u001b[1;32m      2\u001b[0m \u001b[0mte\u001b[0m \u001b[0;34m=\u001b[0m \u001b[0mTransactionEncoder\u001b[0m\u001b[0;34m(\u001b[0m\u001b[0;34m)\u001b[0m\u001b[0;34m\u001b[0m\u001b[0;34m\u001b[0m\u001b[0m\n\u001b[1;32m      3\u001b[0m \u001b[0mte_ary\u001b[0m \u001b[0;34m=\u001b[0m \u001b[0mte\u001b[0m\u001b[0;34m.\u001b[0m\u001b[0mfit\u001b[0m\u001b[0;34m(\u001b[0m\u001b[0mtransactions\u001b[0m\u001b[0;34m)\u001b[0m\u001b[0;34m.\u001b[0m\u001b[0mtransform\u001b[0m\u001b[0;34m(\u001b[0m\u001b[0mtransactions\u001b[0m\u001b[0;34m)\u001b[0m\u001b[0;34m\u001b[0m\u001b[0;34m\u001b[0m\u001b[0m\n\u001b[0;32m----> 4\u001b[0;31m \u001b[0mdf_onehot\u001b[0m\u001b[0;34m.\u001b[0m\u001b[0mto_csv\u001b[0m\u001b[0;34m(\u001b[0m\u001b[0;34m'groceries_onehot.csv'\u001b[0m\u001b[0;34m,\u001b[0m \u001b[0mindex\u001b[0m\u001b[0;34m=\u001b[0m\u001b[0;32mFalse\u001b[0m\u001b[0;34m)\u001b[0m\u001b[0;34m\u001b[0m\u001b[0;34m\u001b[0m\u001b[0m\n\u001b[0m\u001b[1;32m      5\u001b[0m \u001b[0mprint\u001b[0m\u001b[0;34m(\u001b[0m\u001b[0;34m\"One-hot saved, shape: \"\u001b[0m\u001b[0;34m,\u001b[0m \u001b[0mdf_onehot\u001b[0m\u001b[0;34m.\u001b[0m\u001b[0mshape\u001b[0m\u001b[0;34m)\u001b[0m\u001b[0;34m\u001b[0m\u001b[0;34m\u001b[0m\u001b[0m\n",
            "\u001b[0;31mNameError\u001b[0m: name 'df_onehot' is not defined"
          ]
        }
      ]
    },
    {
      "cell_type": "code",
      "source": [
        "te = TransactionEncoder()\n",
        "te_ary = te.fit(transactions).transform(transactions)\n",
        "df_onehot = pd.DataFrame(te_ary, columns=te.columns_)"
      ],
      "metadata": {
        "id": "Z8nXnkSpuJ9Z"
      },
      "execution_count": 13,
      "outputs": []
    },
    {
      "cell_type": "markdown",
      "source": [
        "Chạy apriori"
      ],
      "metadata": {
        "id": "f42afFE9hQOq"
      }
    },
    {
      "cell_type": "code",
      "source": [
        "from mlxtend.frequent_patterns import apriori, association_rules\n",
        "min_support = 0.01\n",
        "frequent_itemsets = apriori(\n",
        "    df_onehot,\n",
        "    min_support = min_support,\n",
        "    use_colnames=True, #Giữ tên sản phẩm thay vì index cột\n",
        "    max_len = 3 # Chỉ xét tối đa 3 sản phẩm / tập\n",
        ")\n",
        "# Sắp xếp để xem các tập phổ biến nhất\n",
        "frequent_itemsets = frequent_itemsets.sort_values(by = \"support\", ascending=False)\n",
        "print(\"Số tập phổ biến tìm được: \", frequent_itemsets.shape[0])\n",
        "print(\"Top 10 tâp phổ biến nhất: \")\n",
        "print(frequent_itemsets.head(10))\n",
        "#Lưu lai\n",
        "frequent_itemsets.to_csv(\"frequent_itemsets.csv\", index = False)\n",
        "print(\"Đã lưu frequent_itemsets.csv\")"
      ],
      "metadata": {
        "id": "9TkJFS-GhSU7",
        "colab": {
          "base_uri": "https://localhost:8080/"
        },
        "outputId": "b5f5d432-edf8-42a0-d606-5ba0e285a1c2"
      },
      "execution_count": 14,
      "outputs": [
        {
          "output_type": "stream",
          "name": "stdout",
          "text": [
            "Số tập phổ biến tìm được:  69\n",
            "Top 10 tâp phổ biến nhất: \n",
            "     support            itemsets\n",
            "62  0.157923        (whole milk)\n",
            "39  0.122101  (other vegetables)\n",
            "45  0.110005        (rolls buns)\n",
            "51  0.097106              (soda)\n",
            "63  0.085879            (yogurt)\n",
            "46  0.069572   (root vegetables)\n",
            "56  0.067767    (tropical fruit)\n",
            "4   0.060683     (bottled water)\n",
            "48  0.060349           (sausage)\n",
            "14  0.053131      (citrus fruit)\n",
            "Đã lưu frequent_itemsets.csv\n"
          ]
        },
        {
          "output_type": "stream",
          "name": "stderr",
          "text": [
            "/usr/local/lib/python3.12/dist-packages/jupyter_client/session.py:203: DeprecationWarning: datetime.datetime.utcnow() is deprecated and scheduled for removal in a future version. Use timezone-aware objects to represent datetimes in UTC: datetime.datetime.now(datetime.UTC).\n",
            "  return datetime.utcnow().replace(tzinfo=utc)\n",
            "/usr/local/lib/python3.12/dist-packages/jupyter_client/session.py:203: DeprecationWarning: datetime.datetime.utcnow() is deprecated and scheduled for removal in a future version. Use timezone-aware objects to represent datetimes in UTC: datetime.datetime.now(datetime.UTC).\n",
            "  return datetime.utcnow().replace(tzinfo=utc)\n",
            "/usr/local/lib/python3.12/dist-packages/jupyter_client/session.py:203: DeprecationWarning: datetime.datetime.utcnow() is deprecated and scheduled for removal in a future version. Use timezone-aware objects to represent datetimes in UTC: datetime.datetime.now(datetime.UTC).\n",
            "  return datetime.utcnow().replace(tzinfo=utc)\n"
          ]
        }
      ]
    },
    {
      "cell_type": "markdown",
      "source": [
        "Sinh luật kết hợp từ các tập"
      ],
      "metadata": {
        "id": "pZNzGnIIlhAz"
      }
    },
    {
      "cell_type": "code",
      "source": [
        "#Tạo các luật dựa trêm chỉ số \"confidence\"\n",
        "#min_threshold ở đây chính là min_confidence\n",
        "rules = association_rules(\n",
        "    frequent_itemsets,\n",
        "    metric = \"confidence\",\n",
        "    min_threshold = 0.5 #Chỉ lấy cấc luật có độ tin cậy >= 50%\n",
        ")\n",
        "# Thêm độ dài vế trái để tiện lọc luật dạng \"mua combo -> mua thêm gì\"\n",
        "rules[\"antecedent_len\"] = rules[\"antecedents\"].apply(lambda x: len(x))\n",
        "#Sắp xếp luật theo lift (độ \"thú vị\", >1 nghĩa là có liên kết dương)\n",
        "rules_sorted = rules.sort_values(by = \"lift\", ascending = False)\n",
        "print(\"Tổng số luật tạo ra: \", rules_sorted.shape[0])\n",
        "print(\"Top 10 luật lift cao nhất\")\n",
        "cols_show=[\n",
        "    \"antecedents\", \"consequents\",\n",
        "    \"support\", \"confidence\",\"lift\",\n",
        "    \"antecedent_len\"\n",
        "]\n",
        "print(rules_sorted[cols_show].head(10))\n",
        "#lưu file\n",
        "rules_sorted.to_csv(\"all_association_rules.csv\", index = False)\n",
        "print(\"Đã lưu all_association_rules.csv\")"
      ],
      "metadata": {
        "id": "4EuHRF3Elkj6",
        "colab": {
          "base_uri": "https://localhost:8080/"
        },
        "outputId": "c75cec5d-e563-45e7-e14c-49cd4c1ba81b"
      },
      "execution_count": 15,
      "outputs": [
        {
          "output_type": "stream",
          "name": "stdout",
          "text": [
            "Tổng số luật tạo ra:  0\n",
            "Top 10 luật lift cao nhất\n",
            "Empty DataFrame\n",
            "Columns: [antecedents, consequents, support, confidence, lift, antecedent_len]\n",
            "Index: []\n",
            "Đã lưu all_association_rules.csv\n"
          ]
        },
        {
          "output_type": "stream",
          "name": "stderr",
          "text": [
            "/usr/local/lib/python3.12/dist-packages/jupyter_client/session.py:203: DeprecationWarning: datetime.datetime.utcnow() is deprecated and scheduled for removal in a future version. Use timezone-aware objects to represent datetimes in UTC: datetime.datetime.now(datetime.UTC).\n",
            "  return datetime.utcnow().replace(tzinfo=utc)\n",
            "/usr/local/lib/python3.12/dist-packages/jupyter_client/session.py:203: DeprecationWarning: datetime.datetime.utcnow() is deprecated and scheduled for removal in a future version. Use timezone-aware objects to represent datetimes in UTC: datetime.datetime.now(datetime.UTC).\n",
            "  return datetime.utcnow().replace(tzinfo=utc)\n",
            "/usr/local/lib/python3.12/dist-packages/jupyter_client/session.py:203: DeprecationWarning: datetime.datetime.utcnow() is deprecated and scheduled for removal in a future version. Use timezone-aware objects to represent datetimes in UTC: datetime.datetime.now(datetime.UTC).\n",
            "  return datetime.utcnow().replace(tzinfo=utc)\n",
            "/usr/local/lib/python3.12/dist-packages/jupyter_client/session.py:203: DeprecationWarning: datetime.datetime.utcnow() is deprecated and scheduled for removal in a future version. Use timezone-aware objects to represent datetimes in UTC: datetime.datetime.now(datetime.UTC).\n",
            "  return datetime.utcnow().replace(tzinfo=utc)\n",
            "/usr/local/lib/python3.12/dist-packages/jupyter_client/session.py:203: DeprecationWarning: datetime.datetime.utcnow() is deprecated and scheduled for removal in a future version. Use timezone-aware objects to represent datetimes in UTC: datetime.datetime.now(datetime.UTC).\n",
            "  return datetime.utcnow().replace(tzinfo=utc)\n",
            "/usr/local/lib/python3.12/dist-packages/jupyter_client/session.py:203: DeprecationWarning: datetime.datetime.utcnow() is deprecated and scheduled for removal in a future version. Use timezone-aware objects to represent datetimes in UTC: datetime.datetime.now(datetime.UTC).\n",
            "  return datetime.utcnow().replace(tzinfo=utc)\n",
            "/usr/local/lib/python3.12/dist-packages/jupyter_client/session.py:203: DeprecationWarning: datetime.datetime.utcnow() is deprecated and scheduled for removal in a future version. Use timezone-aware objects to represent datetimes in UTC: datetime.datetime.now(datetime.UTC).\n",
            "  return datetime.utcnow().replace(tzinfo=utc)\n",
            "/usr/local/lib/python3.12/dist-packages/jupyter_client/session.py:203: DeprecationWarning: datetime.datetime.utcnow() is deprecated and scheduled for removal in a future version. Use timezone-aware objects to represent datetimes in UTC: datetime.datetime.now(datetime.UTC).\n",
            "  return datetime.utcnow().replace(tzinfo=utc)\n"
          ]
        }
      ]
    },
    {
      "cell_type": "markdown",
      "source": [
        "Lọc ra những luật mạnh"
      ],
      "metadata": {
        "id": "e3Uih3n1w4Vf"
      }
    },
    {
      "cell_type": "code",
      "source": [
        "#lift > 1.2 : mối quan hệ mua kèm thực sự mạnh\n",
        "#confidence >= 0.3 : tin cậy ( ít nhất 30% người mua A cũng mua B)\n",
        "#support >= 0.01 : không quá hiếm, có ý nghĩa thực tế\n",
        "strong_rules = rules_sorted[\n",
        "    (rules_sorted[\"lift\"] > 1.2) &\n",
        "    (rules_sorted[\"confidence\"] >= 0.3) &\n",
        "    (rules_sorted[\"support\"] >= 0.01)\n",
        "][cols_show]\n",
        "print(\"Các luật mạnh sau khi lọc: \")\n",
        "print(strong_rules.head(20))\n",
        "\n",
        "#lưu\n",
        "strong_rules.to_csv(\"strong_rules.csv\", index = False)\n",
        "print(\"Đã lưu strong_rules\")"
      ],
      "metadata": {
        "colab": {
          "base_uri": "https://localhost:8080/"
        },
        "id": "jNhqlWxDw3bM",
        "outputId": "f62975fd-5d74-4f7e-b5c6-15e58ce42cf0"
      },
      "execution_count": 16,
      "outputs": [
        {
          "output_type": "stream",
          "name": "stdout",
          "text": [
            "Các luật mạnh sau khi lọc: \n",
            "Empty DataFrame\n",
            "Columns: [antecedents, consequents, support, confidence, lift, antecedent_len]\n",
            "Index: []\n",
            "Đã lưu strong_rules\n"
          ]
        },
        {
          "output_type": "stream",
          "name": "stderr",
          "text": [
            "/usr/local/lib/python3.12/dist-packages/jupyter_client/session.py:203: DeprecationWarning: datetime.datetime.utcnow() is deprecated and scheduled for removal in a future version. Use timezone-aware objects to represent datetimes in UTC: datetime.datetime.now(datetime.UTC).\n",
            "  return datetime.utcnow().replace(tzinfo=utc)\n",
            "/usr/local/lib/python3.12/dist-packages/jupyter_client/session.py:203: DeprecationWarning: datetime.datetime.utcnow() is deprecated and scheduled for removal in a future version. Use timezone-aware objects to represent datetimes in UTC: datetime.datetime.now(datetime.UTC).\n",
            "  return datetime.utcnow().replace(tzinfo=utc)\n",
            "/usr/local/lib/python3.12/dist-packages/jupyter_client/session.py:203: DeprecationWarning: datetime.datetime.utcnow() is deprecated and scheduled for removal in a future version. Use timezone-aware objects to represent datetimes in UTC: datetime.datetime.now(datetime.UTC).\n",
            "  return datetime.utcnow().replace(tzinfo=utc)\n",
            "/usr/local/lib/python3.12/dist-packages/jupyter_client/session.py:203: DeprecationWarning: datetime.datetime.utcnow() is deprecated and scheduled for removal in a future version. Use timezone-aware objects to represent datetimes in UTC: datetime.datetime.now(datetime.UTC).\n",
            "  return datetime.utcnow().replace(tzinfo=utc)\n",
            "/usr/local/lib/python3.12/dist-packages/jupyter_client/session.py:203: DeprecationWarning: datetime.datetime.utcnow() is deprecated and scheduled for removal in a future version. Use timezone-aware objects to represent datetimes in UTC: datetime.datetime.now(datetime.UTC).\n",
            "  return datetime.utcnow().replace(tzinfo=utc)\n",
            "/usr/local/lib/python3.12/dist-packages/jupyter_client/session.py:203: DeprecationWarning: datetime.datetime.utcnow() is deprecated and scheduled for removal in a future version. Use timezone-aware objects to represent datetimes in UTC: datetime.datetime.now(datetime.UTC).\n",
            "  return datetime.utcnow().replace(tzinfo=utc)\n",
            "/usr/local/lib/python3.12/dist-packages/jupyter_client/session.py:203: DeprecationWarning: datetime.datetime.utcnow() is deprecated and scheduled for removal in a future version. Use timezone-aware objects to represent datetimes in UTC: datetime.datetime.now(datetime.UTC).\n",
            "  return datetime.utcnow().replace(tzinfo=utc)\n",
            "/usr/local/lib/python3.12/dist-packages/jupyter_client/session.py:203: DeprecationWarning: datetime.datetime.utcnow() is deprecated and scheduled for removal in a future version. Use timezone-aware objects to represent datetimes in UTC: datetime.datetime.now(datetime.UTC).\n",
            "  return datetime.utcnow().replace(tzinfo=utc)\n",
            "/usr/local/lib/python3.12/dist-packages/jupyter_client/session.py:203: DeprecationWarning: datetime.datetime.utcnow() is deprecated and scheduled for removal in a future version. Use timezone-aware objects to represent datetimes in UTC: datetime.datetime.now(datetime.UTC).\n",
            "  return datetime.utcnow().replace(tzinfo=utc)\n",
            "/usr/local/lib/python3.12/dist-packages/jupyter_client/session.py:203: DeprecationWarning: datetime.datetime.utcnow() is deprecated and scheduled for removal in a future version. Use timezone-aware objects to represent datetimes in UTC: datetime.datetime.now(datetime.UTC).\n",
            "  return datetime.utcnow().replace(tzinfo=utc)\n"
          ]
        }
      ]
    }
  ]
}