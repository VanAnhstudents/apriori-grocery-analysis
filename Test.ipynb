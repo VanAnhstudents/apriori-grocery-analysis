{
  "nbformat": 4,
  "nbformat_minor": 0,
  "metadata": {
    "colab": {
      "provenance": [],
      "authorship_tag": "ABX9TyM9G2HSKh+EoRqQbpyAYL0E",
      "include_colab_link": true
    },
    "kernelspec": {
      "name": "python3",
      "display_name": "Python 3"
    },
    "language_info": {
      "name": "python"
    }
  },
  "cells": [
    {
      "cell_type": "markdown",
      "metadata": {
        "id": "view-in-github",
        "colab_type": "text"
      },
      "source": [
        "<a href=\"https://colab.research.google.com/github/trantrung02/apriori-grocery-analysis/blob/main/Test.ipynb\" target=\"_parent\"><img src=\"https://colab.research.google.com/assets/colab-badge.svg\" alt=\"Open In Colab\"/></a>"
      ]
    },
    {
      "cell_type": "code",
      "execution_count": 9,
      "metadata": {
        "id": "JmSyMxSOHbPa",
        "colab": {
          "base_uri": "https://localhost:8080/"
        },
        "outputId": "2523981e-2543-40c5-855e-0ef8a99d5597"
      },
      "outputs": [
        {
          "output_type": "stream",
          "name": "stdout",
          "text": [
            "Hello\n",
            "8\n",
            "On branch main\n",
            "Your branch is up to date with 'origin/main'.\n",
            "\n",
            "nothing to commit, working tree clean\n",
            "remote: Repository not found.\n",
            "fatal: repository 'https://github.com/trungls1102/apriori-grocery-analysis.git/' not found\n"
          ]
        }
      ],
      "source": [
        "print('Hello')\n",
        "a = 3\n",
        "b = 5\n",
        "c = a + b\n",
        "print(c)\n",
        "\n"
      ]
    }
  ]
}