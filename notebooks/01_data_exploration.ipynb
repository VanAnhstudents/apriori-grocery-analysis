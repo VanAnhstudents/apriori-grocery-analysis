{
  "cells": [
    {
      "cell_type": "code",
      "execution_count": 4,
      "id": "initial_id",
      "metadata": {
        "collapsed": true,
        "colab": {
          "base_uri": "https://localhost:8080/"
        },
        "id": "initial_id",
        "outputId": "52bf179f-16e6-4a01-dc5c-8f6d241b3298"
      },
      "outputs": [
        {
          "output_type": "stream",
          "name": "stdout",
          "text": [
            "Cloning into 'apriori-grocery-analysis'...\n",
            "remote: Enumerating objects: 44, done.\u001b[K\n",
            "remote: Counting objects:   2% (1/44)\u001b[K\rremote: Counting objects:   4% (2/44)\u001b[K\rremote: Counting objects:   6% (3/44)\u001b[K\rremote: Counting objects:   9% (4/44)\u001b[K\rremote: Counting objects:  11% (5/44)\u001b[K\rremote: Counting objects:  13% (6/44)\u001b[K\rremote: Counting objects:  15% (7/44)\u001b[K\rremote: Counting objects:  18% (8/44)\u001b[K\rremote: Counting objects:  20% (9/44)\u001b[K\rremote: Counting objects:  22% (10/44)\u001b[K\rremote: Counting objects:  25% (11/44)\u001b[K\rremote: Counting objects:  27% (12/44)\u001b[K\rremote: Counting objects:  29% (13/44)\u001b[K\rremote: Counting objects:  31% (14/44)\u001b[K\rremote: Counting objects:  34% (15/44)\u001b[K\rremote: Counting objects:  36% (16/44)\u001b[K\rremote: Counting objects:  38% (17/44)\u001b[K\rremote: Counting objects:  40% (18/44)\u001b[K\rremote: Counting objects:  43% (19/44)\u001b[K\rremote: Counting objects:  45% (20/44)\u001b[K\rremote: Counting objects:  47% (21/44)\u001b[K\rremote: Counting objects:  50% (22/44)\u001b[K\rremote: Counting objects:  52% (23/44)\u001b[K\rremote: Counting objects:  54% (24/44)\u001b[K\rremote: Counting objects:  56% (25/44)\u001b[K\rremote: Counting objects:  59% (26/44)\u001b[K\rremote: Counting objects:  61% (27/44)\u001b[K\rremote: Counting objects:  63% (28/44)\u001b[K\rremote: Counting objects:  65% (29/44)\u001b[K\rremote: Counting objects:  68% (30/44)\u001b[K\rremote: Counting objects:  70% (31/44)\u001b[K\rremote: Counting objects:  72% (32/44)\u001b[K\rremote: Counting objects:  75% (33/44)\u001b[K\rremote: Counting objects:  77% (34/44)\u001b[K\rremote: Counting objects:  79% (35/44)\u001b[K\rremote: Counting objects:  81% (36/44)\u001b[K\rremote: Counting objects:  84% (37/44)\u001b[K\rremote: Counting objects:  86% (38/44)\u001b[K\rremote: Counting objects:  88% (39/44)\u001b[K\rremote: Counting objects:  90% (40/44)\u001b[K\rremote: Counting objects:  93% (41/44)\u001b[K\rremote: Counting objects:  95% (42/44)\u001b[K\rremote: Counting objects:  97% (43/44)\u001b[K\rremote: Counting objects: 100% (44/44)\u001b[K\rremote: Counting objects: 100% (44/44), done.\u001b[K\n",
            "remote: Compressing objects:   2% (1/37)\u001b[K\rremote: Compressing objects:   5% (2/37)\u001b[K\rremote: Compressing objects:   8% (3/37)\u001b[K\rremote: Compressing objects:  10% (4/37)\u001b[K\rremote: Compressing objects:  13% (5/37)\u001b[K\rremote: Compressing objects:  16% (6/37)\u001b[K\rremote: Compressing objects:  18% (7/37)\u001b[K\rremote: Compressing objects:  21% (8/37)\u001b[K\rremote: Compressing objects:  24% (9/37)\u001b[K\rremote: Compressing objects:  27% (10/37)\u001b[K\rremote: Compressing objects:  29% (11/37)\u001b[K\rremote: Compressing objects:  32% (12/37)\u001b[K\rremote: Compressing objects:  35% (13/37)\u001b[K\rremote: Compressing objects:  37% (14/37)\u001b[K\rremote: Compressing objects:  40% (15/37)\u001b[K\rremote: Compressing objects:  43% (16/37)\u001b[K\rremote: Compressing objects:  45% (17/37)\u001b[K\rremote: Compressing objects:  48% (18/37)\u001b[K\rremote: Compressing objects:  51% (19/37)\u001b[K\rremote: Compressing objects:  54% (20/37)\u001b[K\rremote: Compressing objects:  56% (21/37)\u001b[K\rremote: Compressing objects:  59% (22/37)\u001b[K\rremote: Compressing objects:  62% (23/37)\u001b[K\rremote: Compressing objects:  64% (24/37)\u001b[K\rremote: Compressing objects:  67% (25/37)\u001b[K\rremote: Compressing objects:  70% (26/37)\u001b[K\rremote: Compressing objects:  72% (27/37)\u001b[K\rremote: Compressing objects:  75% (28/37)\u001b[K\rremote: Compressing objects:  78% (29/37)\u001b[K\rremote: Compressing objects:  81% (30/37)\u001b[K\rremote: Compressing objects:  83% (31/37)\u001b[K\rremote: Compressing objects:  86% (32/37)\u001b[K\rremote: Compressing objects:  89% (33/37)\u001b[K\rremote: Compressing objects:  91% (34/37)\u001b[K\rremote: Compressing objects:  94% (35/37)\u001b[K\rremote: Compressing objects:  97% (36/37)\u001b[K\rremote: Compressing objects: 100% (37/37)\u001b[K\rremote: Compressing objects: 100% (37/37), done.\u001b[K\n",
            "Receiving objects:   2% (1/44)\rReceiving objects:   4% (2/44)\rReceiving objects:   6% (3/44)\rReceiving objects:   9% (4/44)\rReceiving objects:  11% (5/44)\rReceiving objects:  13% (6/44)\rReceiving objects:  15% (7/44)\rReceiving objects:  18% (8/44)\rReceiving objects:  20% (9/44)\rReceiving objects:  22% (10/44)\rReceiving objects:  25% (11/44)\rReceiving objects:  27% (12/44)\rReceiving objects:  29% (13/44)\rReceiving objects:  31% (14/44)\rReceiving objects:  34% (15/44)\rReceiving objects:  36% (16/44)\rReceiving objects:  38% (17/44)\rReceiving objects:  40% (18/44)\rReceiving objects:  43% (19/44)\rReceiving objects:  45% (20/44)\rReceiving objects:  47% (21/44)\rremote: Total 44 (delta 14), reused 23 (delta 5), pack-reused 0 (from 0)\u001b[K\n",
            "Receiving objects:  50% (22/44)\rReceiving objects:  52% (23/44)\rReceiving objects:  54% (24/44)\rReceiving objects:  56% (25/44)\rReceiving objects:  59% (26/44)\rReceiving objects:  61% (27/44)\rReceiving objects:  63% (28/44)\rReceiving objects:  65% (29/44)\rReceiving objects:  68% (30/44)\rReceiving objects:  70% (31/44)\rReceiving objects:  72% (32/44)\rReceiving objects:  75% (33/44)\rReceiving objects:  77% (34/44)\rReceiving objects:  79% (35/44)\rReceiving objects:  81% (36/44)\rReceiving objects:  84% (37/44)\rReceiving objects:  86% (38/44)\rReceiving objects:  88% (39/44)\rReceiving objects:  90% (40/44)\rReceiving objects:  93% (41/44)\rReceiving objects:  95% (42/44)\rReceiving objects:  97% (43/44)\rReceiving objects: 100% (44/44)\rReceiving objects: 100% (44/44), 259.52 KiB | 6.49 MiB/s, done.\n",
            "Resolving deltas:   0% (0/14)\rResolving deltas:   7% (1/14)\rResolving deltas:  14% (2/14)\rResolving deltas:  21% (3/14)\rResolving deltas:  28% (4/14)\rResolving deltas:  35% (5/14)\rResolving deltas:  42% (6/14)\rResolving deltas:  50% (7/14)\rResolving deltas:  57% (8/14)\rResolving deltas:  64% (9/14)\rResolving deltas:  71% (10/14)\rResolving deltas:  78% (11/14)\rResolving deltas:  85% (12/14)\rResolving deltas:  92% (13/14)\rResolving deltas: 100% (14/14)\rResolving deltas: 100% (14/14), done.\n"
          ]
        }
      ],
      "source": [
        "!git clone https://github.com/VanAnhstudents/apriori-grocery-analysis\n"
      ]
    },
    {
      "cell_type": "code",
      "source": [
        "%cd apriori-grocery-analysis"
      ],
      "metadata": {
        "id": "a7SNFV6TZbnu",
        "outputId": "8d951f0c-740e-4132-e8e7-889e34856226",
        "colab": {
          "base_uri": "https://localhost:8080/"
        }
      },
      "id": "a7SNFV6TZbnu",
      "execution_count": 5,
      "outputs": [
        {
          "output_type": "stream",
          "name": "stdout",
          "text": [
            "/content/apriori-grocery-analysis/apriori-grocery-analysis\n"
          ]
        }
      ]
    },
    {
      "cell_type": "code",
      "source": [],
      "metadata": {
        "id": "6tJlC4JiZe9V",
        "outputId": "aeb3bf6b-e34c-4297-c8fb-2b324b027ecb",
        "colab": {
          "base_uri": "https://localhost:8080/"
        }
      },
      "id": "6tJlC4JiZe9V",
      "execution_count": 6,
      "outputs": [
        {
          "output_type": "stream",
          "name": "stdout",
          "text": [
            "[Errno 2] No such file or directory: 'tests'\n",
            "/content/apriori-grocery-analysis/apriori-grocery-analysis\n"
          ]
        }
      ]
    },
    {
      "cell_type": "code",
      "source": [
        "!python daily_setup.py"
      ],
      "metadata": {
        "id": "XWx89RwDZ3Sm"
      },
      "id": "XWx89RwDZ3Sm",
      "execution_count": 7,
      "outputs": []
    }
  ],
  "metadata": {
    "kernelspec": {
      "display_name": "Python 3",
      "language": "python",
      "name": "python3"
    },
    "language_info": {
      "codemirror_mode": {
        "name": "ipython",
        "version": 2
      },
      "file_extension": ".py",
      "mimetype": "text/x-python",
      "name": "python",
      "nbconvert_exporter": "python",
      "pygments_lexer": "ipython2",
      "version": "2.7.6"
    },
    "colab": {
      "provenance": []
    }
  },
  "nbformat": 4,
  "nbformat_minor": 5
}