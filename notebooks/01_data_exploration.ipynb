{
  "cells": [
    {
      "cell_type": "code",
      "execution_count": 1,
      "id": "initial_id",
      "metadata": {
        "collapsed": true,
        "colab": {
          "base_uri": "https://localhost:8080/"
        },
        "id": "initial_id",
        "outputId": "72cceff6-a534-44a9-95a3-63433440ce64"
      },
      "outputs": [
        {
          "output_type": "stream",
          "name": "stdout",
          "text": [
            "Cloning into 'apriori-grocery-analysis'...\n",
            "remote: Enumerating objects: 97, done.\u001b[K\n",
            "remote: Counting objects: 100% (97/97), done.\u001b[K\n",
            "remote: Compressing objects: 100% (70/70), done.\u001b[K\n",
            "remote: Total 97 (delta 44), reused 63 (delta 23), pack-reused 0 (from 0)\u001b[K\n",
            "Receiving objects: 100% (97/97), 286.45 KiB | 13.02 MiB/s, done.\n",
            "Resolving deltas: 100% (44/44), done.\n"
          ]
        }
      ],
      "source": [
        "!git clone https://github.com/VanAnhstudents/apriori-grocery-analysis\n"
      ]
    },
    {
      "cell_type": "code",
      "source": [
        "%cd apriori-grocery-analysis"
      ],
      "metadata": {
        "id": "a7SNFV6TZbnu",
        "outputId": "cce4bbe2-9098-4475-f0e9-df7eb551ac5d",
        "colab": {
          "base_uri": "https://localhost:8080/"
        }
      },
      "id": "a7SNFV6TZbnu",
      "execution_count": 3,
      "outputs": [
        {
          "output_type": "stream",
          "name": "stdout",
          "text": [
            "/content/apriori-grocery-analysis\n"
          ]
        }
      ]
    },
    {
      "cell_type": "code",
      "source": [
        "!python daily_setup.py"
      ],
      "metadata": {
        "id": "XWx89RwDZ3Sm",
        "outputId": "cb0672a9-df0f-44a9-d52a-0819bfdbec87",
        "colab": {
          "base_uri": "https://localhost:8080/"
        }
      },
      "id": "XWx89RwDZ3Sm",
      "execution_count": 4,
      "outputs": [
        {
          "output_type": "stream",
          "name": "stdout",
          "text": [
            "======================================================================\n",
            "🚀 SETUP PHIÊN LÀM VIỆC MỚI\n",
            "======================================================================\n",
            "\n",
            "🔍 KIỂM TRA HỆ THỐNG\n",
            "==================================================\n",
            "\n",
            "📌 Kiểm tra Python version...\n",
            "Python 3.12.11\n",
            "\n",
            "✅ Python 3.12.11\n",
            "\n",
            "📌 Kiểm tra pip...\n",
            "pip 24.1.2 from /usr/local/lib/python3.12/dist-packages/pip (python 3.12)\n",
            "\n",
            "✅ Pip có sẵn\n",
            "\n",
            "📌 Kiểm tra Git...\n",
            "git version 2.34.1\n",
            "\n",
            "✅ git version 2.34.1\n",
            "\n",
            "🔍 Phát hiện môi trường Google Colab\n",
            "📁 Mount Google Drive...\n",
            "⚠️  Không thể mount Google Drive: 'NoneType' object has no attribute 'kernel'\n",
            "Đường dẫn đến project trên Drive [/content/drive/MyDrive/project]: \n",
            "\n",
            "❌ Đã hủy bỏ setup\n",
            "Exception ignored in: <module 'threading' from '/usr/lib/python3.12/threading.py'>\n",
            "Traceback (most recent call last):\n",
            "  File \"/usr/lib/python3.12/threading.py\", line 1575, in _shutdown\n",
            "    def _shutdown():\n",
            "    \n",
            "KeyboardInterrupt: \n"
          ]
        }
      ]
    }
  ],
  "metadata": {
    "kernelspec": {
      "display_name": "Python 3",
      "language": "python",
      "name": "python3"
    },
    "language_info": {
      "codemirror_mode": {
        "name": "ipython",
        "version": 2
      },
      "file_extension": ".py",
      "mimetype": "text/x-python",
      "name": "python",
      "nbconvert_exporter": "python",
      "pygments_lexer": "ipython2",
      "version": "2.7.6"
    },
    "colab": {
      "provenance": []
    }
  },
  "nbformat": 4,
  "nbformat_minor": 5
}